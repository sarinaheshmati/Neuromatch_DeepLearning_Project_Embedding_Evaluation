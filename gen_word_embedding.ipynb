{
 "cells": [
  {
   "cell_type": "code",
   "execution_count": 2,
   "metadata": {},
   "outputs": [],
   "source": [
    "from transformers import AutoTokenizer, AutoModel\n",
    "from tqdm import tqdm\n",
    "import pandas as pd\n",
    "import numpy as np"
   ]
  },
  {
   "cell_type": "code",
   "execution_count": 3,
   "metadata": {},
   "outputs": [
    {
     "name": "stderr",
     "output_type": "stream",
     "text": [
      "c:\\ProgramData\\Anaconda3\\lib\\site-packages\\huggingface_hub\\file_download.py:1150: FutureWarning: `resume_download` is deprecated and will be removed in version 1.0.0. Downloads always resume when possible. If you want to force a new download, use `force_download=True`.\n",
      "  warnings.warn(\n",
      "c:\\ProgramData\\Anaconda3\\lib\\site-packages\\huggingface_hub\\file_download.py:1150: FutureWarning: `resume_download` is deprecated and will be removed in version 1.0.0. Downloads always resume when possible. If you want to force a new download, use `force_download=True`.\n",
      "  warnings.warn(\n"
     ]
    }
   ],
   "source": [
    "tokenizer = AutoTokenizer.from_pretrained(\"facebook/bart-base\")\n",
    "model = AutoModel.from_pretrained(\"facebook/bart-base\")"
   ]
  },
  {
   "cell_type": "code",
   "execution_count": 4,
   "metadata": {},
   "outputs": [
    {
     "data": {
      "text/plain": [
       "0       goldfish, Carassius auratus\n",
       "1       goldfish, Carassius auratus\n",
       "2       goldfish, Carassius auratus\n",
       "3       goldfish, Carassius auratus\n",
       "4       goldfish, Carassius auratus\n",
       "                   ...             \n",
       "7198                    scuba diver\n",
       "7199                    scuba diver\n",
       "7200                    scuba diver\n",
       "7201                    scuba diver\n",
       "7202                    scuba diver\n",
       "Name: labels, Length: 7203, dtype: object"
      ]
     },
     "execution_count": 4,
     "metadata": {},
     "output_type": "execute_result"
    }
   ],
   "source": [
    "image_labels = pd.read_pickle('EEG_raw.pkl')['labels']\n",
    "image_labels"
   ]
  },
  {
   "cell_type": "code",
   "execution_count": 6,
   "metadata": {},
   "outputs": [],
   "source": [
    "def get_embeddings(words:str):\n",
    "    input = tokenizer(words, return_tensors=\"pt\")\n",
    "    output = model(**input)\n",
    "    last_hidden_state = output.last_hidden_state.detach().numpy().squeeze().mean(axis=0)\n",
    "    return last_hidden_state"
   ]
  },
  {
   "cell_type": "code",
   "execution_count": 7,
   "metadata": {},
   "outputs": [
    {
     "name": "stderr",
     "output_type": "stream",
     "text": [
      "7203it [14:40,  8.18it/s]\n"
     ]
    }
   ],
   "source": [
    "word_embeddings_df = np.empty((len(image_labels),768))\n",
    "for i,image_label in tqdm(enumerate(image_labels)):\n",
    "    synsets = [synset.strip().lower() for synset in image_label.split(',')]\n",
    "    embeddings_sum = np.zeros(768)\n",
    "    for synset in synsets:\n",
    "        embeddings_sum += get_embeddings(synset)\n",
    "    embeddings_sum /= len(synsets)\n",
    "    word_embeddings_df[i,:] = embeddings_sum"
   ]
  },
  {
   "cell_type": "code",
   "execution_count": 8,
   "metadata": {},
   "outputs": [],
   "source": [
    "np.save('word_embeddings.npy',word_embeddings_df)"
   ]
  }
 ],
 "metadata": {
  "kernelspec": {
   "display_name": "base",
   "language": "python",
   "name": "python3"
  },
  "language_info": {
   "codemirror_mode": {
    "name": "ipython",
    "version": 3
   },
   "file_extension": ".py",
   "mimetype": "text/x-python",
   "name": "python",
   "nbconvert_exporter": "python",
   "pygments_lexer": "ipython3",
   "version": "3.9.12"
  }
 },
 "nbformat": 4,
 "nbformat_minor": 2
}
