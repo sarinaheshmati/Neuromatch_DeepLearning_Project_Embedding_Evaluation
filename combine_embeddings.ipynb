{
 "cells": [
  {
   "cell_type": "code",
   "execution_count": 2,
   "metadata": {},
   "outputs": [],
   "source": [
    "import pandas as pd\n",
    "import numpy as np\n",
    "from sklearn.preprocessing import StandardScaler"
   ]
  },
  {
   "cell_type": "code",
   "execution_count": 3,
   "metadata": {},
   "outputs": [],
   "source": [
    "def avg_embeddings(embeddings_mat,labels):\n",
    "    df = pd.DataFrame({'embeddings':embeddings_mat.tolist(),'labels':labels})\n",
    "    df['embeddings'] = df['embeddings'].apply(lambda x:np.array(x))\n",
    "    grouped_embeddings = df.groupby('labels').agg('mean').reset_index()\n",
    "    return np.vstack(grouped_embeddings['embeddings'].to_numpy())"
   ]
  },
  {
   "cell_type": "code",
   "execution_count": 4,
   "metadata": {},
   "outputs": [],
   "source": [
    "labels = pd.read_pickle('../Embedding Generation/EEG_raw.pkl')['wn_id']\n",
    "img_embeddings = np.load('Embeddings/image_embeddings.npy')\n",
    "img_embeddings = StandardScaler().fit_transform(img_embeddings)\n",
    "\n",
    "avg_img_embeddings = avg_embeddings(img_embeddings,labels)"
   ]
  }
 ],
 "metadata": {
  "kernelspec": {
   "display_name": "base",
   "language": "python",
   "name": "python3"
  },
  "language_info": {
   "codemirror_mode": {
    "name": "ipython",
    "version": 3
   },
   "file_extension": ".py",
   "mimetype": "text/x-python",
   "name": "python",
   "nbconvert_exporter": "python",
   "pygments_lexer": "ipython3",
   "version": "3.9.12"
  }
 },
 "nbformat": 4,
 "nbformat_minor": 2
}
