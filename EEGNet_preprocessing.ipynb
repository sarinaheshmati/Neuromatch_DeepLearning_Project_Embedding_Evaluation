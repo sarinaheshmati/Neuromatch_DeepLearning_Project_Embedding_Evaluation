{
 "cells": [
  {
   "cell_type": "code",
   "execution_count": 14,
   "metadata": {},
   "outputs": [],
   "source": [
    "import pandas as pd\n",
    "import numpy as np\n",
    "from scipy.interpolate import CubicSpline\n",
    "from tqdm import tqdm\n",
    "from scipy.stats import zscore\n",
    "import torch"
   ]
  },
  {
   "cell_type": "code",
   "execution_count": 5,
   "metadata": {},
   "outputs": [],
   "source": [
    "raw_df = pd.read_pickle('EEG_raw.pkl')\n",
    "raw_eeg, wn_ids = raw_df['channels'],raw_df['wn_id']"
   ]
  },
  {
   "cell_type": "markdown",
   "metadata": {},
   "source": [
    "### Generate Classification Labels"
   ]
  },
  {
   "cell_type": "code",
   "execution_count": 39,
   "metadata": {},
   "outputs": [],
   "source": [
    "unique_ids = wn_ids.unique().tolist()\n",
    "labels = np.zeros((len(raw_df),len(unique_ids)),dtype=bool)\n",
    "\n",
    "for i,wn_id in enumerate(wn_ids):\n",
    "    labels[i,unique_ids.index(wn_id)] = True\n",
    "\n",
    "np.save('classification_labels.npy',labels)"
   ]
  },
  {
   "cell_type": "markdown",
   "metadata": {},
   "source": [
    "### EEG Preprocess"
   ]
  },
  {
   "cell_type": "code",
   "execution_count": 4,
   "metadata": {},
   "outputs": [],
   "source": [
    "def interpolate(channels):\n",
    "    interpolated_sig = np.empty((3,3*250))\n",
    "    t = np.linspace(0,3,channels.shape[1])\n",
    "    t_new = np.linspace(0,3,interpolated_sig.shape[1])\n",
    "    for i in range(channels.shape[0]):\n",
    "        y = channels[i,:]\n",
    "        spl = CubicSpline(t,y)\n",
    "        interpolated_sig[i,:] = spl(t_new)\n",
    "    assert not np.any(np.isnan(interpolated_sig))\n",
    "    return interpolated_sig\n",
    "\n",
    "def preprocess_eeg(channels):\n",
    "    channels = channels[0:2,:]\n",
    "    channels = interpolate(channels)\n",
    "    channels = np.hstack((channels,channels[:,-375:]))\n",
    "    assert not np.any(np.isnan(channels))\n",
    "    return channels"
   ]
  },
  {
   "cell_type": "code",
   "execution_count": null,
   "metadata": {},
   "outputs": [],
   "source": [
    "# raw_eeg = raw_eeg.apply(preprocess_eeg)\n",
    "# raw_eeg.to_pickle('EEGNet_input.pkl')"
   ]
  },
  {
   "cell_type": "code",
   "execution_count": 58,
   "metadata": {},
   "outputs": [
    {
     "name": "stderr",
     "output_type": "stream",
     "text": [
      "7203it [00:08, 880.73it/s]\n"
     ]
    }
   ],
   "source": [
    "all_eeg = np.empty((len(raw_df),3,1125))\n",
    "for i,trial_data in tqdm(enumerate(raw_eeg)):\n",
    "    all_eeg[i,:,:] = preprocess_eeg(trial_data)\n",
    "\n",
    "eeg_ndarray = zscore(all_eeg,axis=1)\n",
    "assert not np.any(np.isnan(eeg_ndarray))\n",
    "eeg_tensor = torch.from_numpy(eeg_ndarray).float()\n",
    "assert not eeg_tensor.isnan().any()\n",
    "torch.save(eeg_tensor, 'eeg_tensor.pt')"
   ]
  }
 ],
 "metadata": {
  "kernelspec": {
   "display_name": "base",
   "language": "python",
   "name": "python3"
  },
  "language_info": {
   "codemirror_mode": {
    "name": "ipython",
    "version": 3
   },
   "file_extension": ".py",
   "mimetype": "text/x-python",
   "name": "python",
   "nbconvert_exporter": "python",
   "pygments_lexer": "ipython3",
   "version": "3.9.12"
  }
 },
 "nbformat": 4,
 "nbformat_minor": 2
}
